{
 "cells": [
  {
   "cell_type": "markdown",
   "metadata": {},
   "source": [
    "<div class=\"alert alert-block alert-info\">\n",
    "\n",
    "### Practice Problem 1 - Enter your code in the empty cell below!\n",
    "1. Solve and save the result of 23 time 71 as a variable \n",
    "2. Now solve and save the result of 6 to the power of 3 as another, differently named variable\n",
    "3. Finally, check if the second result is greater than the first result and print the final answer!!\n",
    "</div>"
   ]
  },
  {
   "cell_type": "code",
   "execution_count": null,
   "metadata": {},
   "outputs": [],
   "source": [
    "#Practice problem 1 workspace\n",
    "\n"
   ]
  },
  {
   "cell_type": "markdown",
   "metadata": {},
   "source": [
    "<div class=\"alert alert-block alert-info\">\n",
    "    \n",
    "### Comparison Operators\n",
    "</div>"
   ]
  },
  {
   "cell_type": "code",
   "execution_count": null,
   "metadata": {},
   "outputs": [],
   "source": [
    "5 > 3"
   ]
  },
  {
   "cell_type": "code",
   "execution_count": null,
   "metadata": {},
   "outputs": [],
   "source": [
    "5 == 3"
   ]
  },
  {
   "cell_type": "code",
   "execution_count": null,
   "metadata": {},
   "outputs": [],
   "source": [
    "5!=3"
   ]
  },
  {
   "cell_type": "markdown",
   "metadata": {},
   "source": [
    "<div class=\"alert alert-block alert-info\">\n",
    "\n",
    "### Can we solve exercise 1 together?\n",
    "Representing decision trees in python code using if/else statements\n",
    "    \n",
    "Here is some data that will help us figure out which cell type this neuron is:\n",
    "</div>"
   ]
  },
  {
   "cell_type": "code",
   "execution_count": null,
   "metadata": {},
   "outputs": [],
   "source": [
    "# number of presynaptic sites on this neuron\n",
    "num_presyn = 79 \n",
    "\n",
    "# number of postsynaptic sites on this neuron\n",
    "num_postsyn = 805 \n",
    "\n",
    "# angle of the longest branch \n",
    "apical_angle = 7.928 \n",
    "\n",
    "#lengths of each branch in our neuron\n",
    "branch_lengths = [ 7, 39,  2, 48, 40, 38,  6, 16, 18, 49, 32, 10, 52, 22,  1, 13, 16,\n",
    "        46, 18, 15,  3, 32, 28, 27, 49, 37, 16, 49, 38, 48,  8,  3, 10,  4,\n",
    "        3,  9, 45,  9,  41,  9,  2,  1,  3, 21,  5, 24, 35, 47, 13, 18, 16,\n",
    "       11,  43, 24, 10, 41, 32, 43, 33, 24, 25, 34, 38, 53, 28, 32,  41,  5,\n",
    "        49, 38, 32,  18, 33,  7, 27, 26, 40, 26, 33, 16, 41,  4, 14,  35, 25,\n",
    "       22, 39, 14, 20, 21, 10,  5, 43, 42, 25, 48, 38, 32, 18, 41] \n"
   ]
  },
  {
   "cell_type": "markdown",
   "metadata": {},
   "source": [
    "<div class=\"alert alert-block alert-info\">\n",
    "Now we can go through the decision tree step by step\n",
    "\n",
    "#### Step 1: Does the neuron have more than 1000 total synapses?\n",
    "- we can find the total number of synapses our neuron has by adding the presynaptic and postsynaptic numbers together!\n",
    "</div>"
   ]
  },
  {
   "cell_type": "code",
   "execution_count": null,
   "metadata": {},
   "outputs": [],
   "source": [
    "# save your answer under the variable name num_synapses\n",
    "num_synapses = # put your equation here!"
   ]
  },
  {
   "cell_type": "code",
   "execution_count": null,
   "metadata": {},
   "outputs": [],
   "source": [
    "print(num_synapses)"
   ]
  },
  {
   "cell_type": "code",
   "execution_count": null,
   "metadata": {},
   "outputs": [],
   "source": [
    "num_synapses > 1000"
   ]
  },
  {
   "cell_type": "markdown",
   "metadata": {},
   "source": [
    "<div class=\"alert alert-block alert-info\">\n",
    "\n",
    "#### Step 2: Is the length of the longest branch less than 50?\n",
    "- the list is a little long to go through manually, so we can use one of the built-in functions from earlier! \n",
    "\n",
    "</div>"
   ]
  },
  {
   "cell_type": "code",
   "execution_count": null,
   "metadata": {},
   "outputs": [],
   "source": [
    "# save your answer under the variable name longest_branch\n",
    "longest_branch = "
   ]
  },
  {
   "cell_type": "code",
   "execution_count": null,
   "metadata": {},
   "outputs": [],
   "source": [
    "print(longest_branch)"
   ]
  },
  {
   "cell_type": "code",
   "execution_count": null,
   "metadata": {},
   "outputs": [],
   "source": [
    "longest_branch < 50"
   ]
  },
  {
   "cell_type": "markdown",
   "metadata": {},
   "source": [
    "<div class=\"alert alert-block alert-info\">\n",
    "    \n",
    "#### Step 3: Are the total number of branches more than 125?\n",
    "- We can use branch_lengths for this as well!\n",
    "- branch_lengths represents the length of each branch in our neuron\n",
    "- so, if we know the length of branch_lenghts, we will know the total number of branches in our neuron\n",
    "</div>"
   ]
  },
  {
   "cell_type": "code",
   "execution_count": null,
   "metadata": {},
   "outputs": [],
   "source": [
    "# save your answer under the variable name num_branches\n",
    "num_branches = #insert your answer here!"
   ]
  },
  {
   "cell_type": "code",
   "execution_count": null,
   "metadata": {},
   "outputs": [],
   "source": [
    "print(num_branches)"
   ]
  },
  {
   "cell_type": "code",
   "execution_count": null,
   "metadata": {},
   "outputs": [],
   "source": [
    "num_branches > 125"
   ]
  },
  {
   "cell_type": "markdown",
   "metadata": {},
   "source": [
    "<div class=\"alert alert-block alert-info\">\n",
    "\n",
    "#### Step 4: Is the average branch length less than 25?\n",
    "- uh oh - average/mean is not a built in function in python!\n",
    "- that's ok - we can get the mean using other built in functions!    \n",
    "\n",
    "##### mean branch length = (sum of all branch lengths) ÷ (number of branches)\n",
    "- we already have the number of branches from step 3 - it is saved under teh variable num_branches\n",
    "- we just need to find the sum of all the lengths in branch_lenghts! We can do that with another built in function from earlier! \n",
    "\n",
    "</div>"
   ]
  },
  {
   "cell_type": "code",
   "execution_count": null,
   "metadata": {},
   "outputs": [],
   "source": [
    "# save your answer under the variable name average_branch_length\n",
    "average_branch_length = #insert your answer here!"
   ]
  },
  {
   "cell_type": "code",
   "execution_count": null,
   "metadata": {},
   "outputs": [],
   "source": [
    "print(average_branch_length)"
   ]
  },
  {
   "cell_type": "code",
   "execution_count": null,
   "metadata": {},
   "outputs": [],
   "source": [
    "average_branch_length < 25"
   ]
  },
  {
   "cell_type": "markdown",
   "metadata": {},
   "source": [
    "<div class=\"alert alert-block alert-info\">\n",
    "Let's make it more powerful with a for loop!\n",
    "    </div>"
   ]
  },
  {
   "cell_type": "code",
   "execution_count": null,
   "metadata": {},
   "outputs": [],
   "source": [
    "if num_synapses > 1000:\n",
    "    \n",
    "    if num_synapses > 1500:\n",
    "        print('cell_type = Type A')\n",
    "\n",
    "    else: \n",
    "        if apical_angle > 5:\n",
    "            print('cell_type = Type C')\n",
    "        else:\n",
    "            print('cell_type = Type D')\n",
    "\n",
    "else:\n",
    "    \n",
    "    if longest_branch < 50:\n",
    "        print('cell_type = Type B')\n",
    "\n",
    "    else:\n",
    "        if num_branches > 125:\n",
    "            print('cell_type = Type E')\n",
    "            \n",
    "        else:\n",
    "            if average_branch_length < 25:\n",
    "                print('cell_type = Type F')\n",
    "            else:\n",
    "                print('cell_type = Type G')"
   ]
  },
  {
   "cell_type": "markdown",
   "metadata": {},
   "source": [
    "<div class=\"alert alert-block alert-info\">\n",
    "    \n",
    "### Solo problem 2: The case of the two experiments\n",
    "Each experiment contains 5 sets of the following information (one set per expected result):\n",
    "<ul>\n",
    "    <li> <b>Unique ID: </b> Floats with experiment number as number before decimal and subexperiment number after (i.e. experiment 5 subexperiment 1 would be 5.1. Should be unique for each experiment, and are good ways to delineate different sub experiments</li>\n",
    "    <li> <b>Batch Number: </b> Set up similarly to unique ID, but describes the tissue used in the experiment. </li>\n",
    "    <li> <b>Process ID: </b> Value that identifies the process done to generate each result, should be the same across all experiments and results</li>\n",
    "    <li> <b>Rig ID: </b> Should be r01 for the first set of sub experiments, and r02 for the second set of sub experiments</li>\n",
    "    <li> <b>Experimental Parameters: </b> Floats that describe process ID, should be the same for each process ID</li>\n",
    "    <li> <b>Result: </b> Value between 1 and 5, all results across all experiments were supposed be identical!</li>\n",
    "    </ul>\n",
    "    \n",
    "### Your task - figure out which sub-experiments have errors by UID and print out what they are! \n",
    "\n",
    "<b> Hint:</b> Break it down into steps and write out what you think you need to do in English before starting to code. Can you check one experiment at a time, first? What patterns do you see, and how can control flow help you?\n",
    "</div>"
   ]
  },
  {
   "cell_type": "code",
   "execution_count": null,
   "metadata": {},
   "outputs": [],
   "source": [
    "exp_1_data = [1.1, 9118342.7791, 'P81.1.1', 'r01', 7.348, 1,1.2, 9118342.7792, 'P81.1.1', 'r01', 7.348, 1,1.3, 9118342.7793, 'P81.1.1', 'r02', 7.348, 2,1.4, 9118342.7794, 'P81.1.1', 'r01', 7.348, 1,1.5, 9118342.7795, 'P81.1.1', 'r01', 7.348, 1]\n",
    "exp_2_data = [2.1, 9118342.7796, 'P81.1.1', 'r01', 7.348, 1,2.2, 9118342.7797, 'P81.1.1', 'r02', 7.348, 2,2.3, 9118342.7798, 'P81.1.1', 'r02', 7.348, 2,2.4, 9118342.7799, 'P81.1.1', 'r02', 7.348, 1,2.5, 9118342.7800, 'P81.2.1', 'r02', 8.671, 5]"
   ]
  },
  {
   "cell_type": "code",
   "execution_count": null,
   "metadata": {},
   "outputs": [],
   "source": [
    "#Practice problem 2 workspace\n",
    "\n"
   ]
  },
  {
   "cell_type": "code",
   "execution_count": null,
   "metadata": {},
   "outputs": [],
   "source": []
  },
  {
   "cell_type": "markdown",
   "metadata": {},
   "source": [
    "<div class=\"alert alert-block alert-success\">\n",
    "    \n",
    "## BONUS MATERIAL\n",
    "</div>"
   ]
  },
  {
   "cell_type": "markdown",
   "metadata": {},
   "source": [
    "<div class=\"alert alert-block alert-info\">\n",
    "\n",
    "### Using more common built in functions \n",
    "Built in functions come in many flavors. Here you can explore some functions you may or may not have seen us use in our two classes.\n",
    "\n",
    "</div>"
   ]
  },
  {
   "cell_type": "markdown",
   "metadata": {},
   "source": [
    "<div class=\"alert alert-block alert-info\">\n",
    "    \n",
    "For example: Printing!\n",
    "</div>"
   ]
  },
  {
   "cell_type": "code",
   "execution_count": null,
   "metadata": {},
   "outputs": [],
   "source": [
    "print('xyzabc')"
   ]
  },
  {
   "cell_type": "code",
   "execution_count": null,
   "metadata": {},
   "outputs": [],
   "source": [
    "my_list = [1, 2, 3, 4, 5]\n",
    "print(mylist) "
   ]
  },
  {
   "cell_type": "code",
   "execution_count": null,
   "metadata": {},
   "outputs": [],
   "source": [
    "my_dict = {'name': 'Emily',  'workplace': 'Allen Institute'}\n",
    "print(my_dict)\n",
    "#how do I learn more about working with dicts? "
   ]
  },
  {
   "cell_type": "markdown",
   "metadata": {},
   "source": [
    "<div class=\"alert alert-block alert-info\">\n",
    "    \n",
    "<b> type()</b> - Get the type of an object\n",
    "</div>"
   ]
  },
  {
   "cell_type": "code",
   "execution_count": null,
   "metadata": {},
   "outputs": [],
   "source": [
    "type('xyzabc')"
   ]
  },
  {
   "cell_type": "code",
   "execution_count": null,
   "metadata": {},
   "outputs": [],
   "source": [
    "type(my_list)"
   ]
  },
  {
   "cell_type": "code",
   "execution_count": null,
   "metadata": {},
   "outputs": [],
   "source": [
    "type(my_dict)"
   ]
  },
  {
   "cell_type": "markdown",
   "metadata": {},
   "source": [
    "<div class=\"alert alert-block alert-info\">\n",
    "    <b> len()</b> - Get the length of an object\n",
    "    </div>"
   ]
  },
  {
   "cell_type": "code",
   "execution_count": null,
   "metadata": {},
   "outputs": [],
   "source": [
    "my_string = 'abcdefg'\n",
    "len(mystring)"
   ]
  },
  {
   "cell_type": "code",
   "execution_count": null,
   "metadata": {},
   "outputs": [],
   "source": [
    "len(my_list)"
   ]
  },
  {
   "cell_type": "code",
   "execution_count": null,
   "metadata": {},
   "outputs": [],
   "source": [
    "len(my_dict) #were you surprised by this answer?"
   ]
  },
  {
   "cell_type": "markdown",
   "metadata": {},
   "source": [
    "<div class=\"alert alert-block alert-info\">\n",
    "    <b>max()</b> - get the maximum value of an object\n",
    "(usually used most with lists of ints)\n",
    "   </div>"
   ]
  },
  {
   "cell_type": "code",
   "execution_count": null,
   "metadata": {},
   "outputs": [],
   "source": [
    "max(my_string)"
   ]
  },
  {
   "cell_type": "code",
   "execution_count": null,
   "metadata": {},
   "outputs": [],
   "source": [
    "max(my_list)"
   ]
  },
  {
   "cell_type": "code",
   "execution_count": null,
   "metadata": {},
   "outputs": [],
   "source": [
    "max(my_dict)"
   ]
  },
  {
   "cell_type": "markdown",
   "metadata": {},
   "source": [
    "<div class=\"alert alert-block alert-info\">\n",
    "    <b>sum()</b> - get the sum of a collection of numbers\n",
    "    </div>"
   ]
  },
  {
   "cell_type": "code",
   "execution_count": null,
   "metadata": {},
   "outputs": [],
   "source": [
    "sum(my_list)"
   ]
  },
  {
   "cell_type": "code",
   "execution_count": null,
   "metadata": {},
   "outputs": [],
   "source": [
    "my_set = (3.14, 2.71)\n",
    "sum(my_set)"
   ]
  },
  {
   "cell_type": "code",
   "execution_count": null,
   "metadata": {},
   "outputs": [],
   "source": []
  }
 ],
 "metadata": {
  "kernelspec": {
   "display_name": "Python 3",
   "language": "python",
   "name": "python3"
  },
  "language_info": {
   "codemirror_mode": {
    "name": "ipython",
    "version": 3
   },
   "file_extension": ".py",
   "mimetype": "text/x-python",
   "name": "python",
   "nbconvert_exporter": "python",
   "pygments_lexer": "ipython3",
   "version": "3.7.9"
  }
 },
 "nbformat": 4,
 "nbformat_minor": 2
}
